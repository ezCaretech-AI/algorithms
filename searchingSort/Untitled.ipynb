{
 "cells": [
  {
   "cell_type": "code",
   "execution_count": 1,
   "metadata": {},
   "outputs": [],
   "source": [
    "class node:\n",
    "    def __init__(self, key=None):\n",
    "        self.key = key"
   ]
  },
  {
   "cell_type": "code",
   "execution_count": 2,
   "metadata": {},
   "outputs": [],
   "source": [
    "class Dict:\n",
    "    def __init__(self):\n",
    "        Dict.a = []\n",
    "    \n",
    "    def search(self, search_key):\n",
    "        i = 0\n",
    "        n = len(Dict.a)\n",
    "        \n",
    "        while i < n and Dict.a[i].key != search_key:\n",
    "            i = i + 1\n",
    "        if i == n:\n",
    "            return -1\n",
    "        else:\n",
    "            return i\n",
    "    \n",
    "    def insert(self, v):\n",
    "        Dict.a.append(node(v))"
   ]
  },
  {
   "cell_type": "code",
   "execution_count": 3,
   "metadata": {},
   "outputs": [],
   "source": [
    "import random, time"
   ]
  },
  {
   "cell_type": "code",
   "execution_count": 4,
   "metadata": {},
   "outputs": [],
   "source": [
    "N = 10000"
   ]
  },
  {
   "cell_type": "code",
   "execution_count": 5,
   "metadata": {},
   "outputs": [],
   "source": [
    "key = list(range(1, N+1))"
   ]
  },
  {
   "cell_type": "code",
   "execution_count": 6,
   "metadata": {},
   "outputs": [],
   "source": [
    "s_key = list(range(1, N+1))"
   ]
  },
  {
   "cell_type": "code",
   "execution_count": 7,
   "metadata": {},
   "outputs": [],
   "source": [
    "random.shuffle(key)"
   ]
  },
  {
   "cell_type": "code",
   "execution_count": 8,
   "metadata": {},
   "outputs": [],
   "source": [
    "d = Dict()"
   ]
  },
  {
   "cell_type": "code",
   "execution_count": 9,
   "metadata": {},
   "outputs": [],
   "source": [
    "for i in range(N):\n",
    "    d.insert(key[i])"
   ]
  },
  {
   "cell_type": "code",
   "execution_count": 16,
   "metadata": {},
   "outputs": [
    {
     "name": "stdout",
     "output_type": "stream",
     "text": [
      "순차 탐색의 실행 시간 (N=10000) : 6.734\n",
      "탐색완료\n"
     ]
    }
   ],
   "source": [
    "start_time = time.process_time()\n",
    "\n",
    "for i in range(N):\n",
    "    result = d.search(s_key[i])\n",
    "    if result == -1 or key[result] != s_key[i]:\n",
    "        print('탐색오류')\n",
    "\n",
    "end_time = time.process_time() - start_time\n",
    "\n",
    "print('순차 탐색의 실행 시간 (N=%d) : %0.3f'%(N, end_time))\n",
    "\n",
    "print('탐색완료')"
   ]
  }
 ],
 "metadata": {
  "kernelspec": {
   "display_name": "csr",
   "language": "python",
   "name": "csr"
  },
  "language_info": {
   "codemirror_mode": {
    "name": "ipython",
    "version": 3
   },
   "file_extension": ".py",
   "mimetype": "text/x-python",
   "name": "python",
   "nbconvert_exporter": "python",
   "pygments_lexer": "ipython3",
   "version": "3.7.6"
  }
 },
 "nbformat": 4,
 "nbformat_minor": 4
}
