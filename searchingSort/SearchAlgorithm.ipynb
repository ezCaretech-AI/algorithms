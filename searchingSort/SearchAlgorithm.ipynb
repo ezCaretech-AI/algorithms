{
 "cells": [
  {
   "cell_type": "code",
   "execution_count": 1,
   "metadata": {},
   "outputs": [],
   "source": [
    "import random, time"
   ]
  },
  {
   "cell_type": "code",
   "execution_count": 2,
   "metadata": {},
   "outputs": [],
   "source": [
    "class node:\n",
    "    def __init__(self, key=None):\n",
    "        self.key = key"
   ]
  },
  {
   "cell_type": "code",
   "execution_count": 3,
   "metadata": {},
   "outputs": [],
   "source": [
    "class tree_node:\n",
    "    def __init__(self, key=None, left=None, right=None):\n",
    "        self.key = key\n",
    "        self.left = left\n",
    "        self.right = right"
   ]
  },
  {
   "cell_type": "code",
   "execution_count": 4,
   "metadata": {},
   "outputs": [],
   "source": [
    "class Dict:\n",
    "    def __init__(self):\n",
    "        Dict.a = []\n",
    "    \n",
    "    ## 1. 순차 탐색\n",
    "    def sequentialSearch(self, search_key):\n",
    "        i = 0\n",
    "        n = len(Dict.a)\n",
    "                \n",
    "        while i < n and Dict.a[i].key != search_key:\n",
    "            i = i + 1\n",
    "        \n",
    "        if i == n:\n",
    "            return -1\n",
    "        else:\n",
    "            return i\n",
    "    \n",
    "    ## 2. 이진 탐색\n",
    "    def binarySearch(self, search_key):\n",
    "        left = 0\n",
    "        right = len(Dict.a) - 1\n",
    "        \n",
    "        while right >= left:\n",
    "            mid = int((left+right) /2)\n",
    "            \n",
    "            if Dict.a[mid].key == search_key:\n",
    "                return mid\n",
    "            if Dict.a[mid].key > search_key:\n",
    "                right = mid - 1\n",
    "            else:\n",
    "                left = mid + 1\n",
    "        \n",
    "        return -1\n",
    "    \n",
    "    def insert(self, v):\n",
    "        Dict.a.append(node(v))\n",
    "    \n",
    "    \n",
    "    ## 3. 이진탐색트리\n",
    "    x = p = tree_node\n",
    "    \n",
    "    z = tree_node(key=0, left=0, right=0)\n",
    "    z.left = z\n",
    "    z.right = z\n",
    "    head = tree_node(key=0, left=0, right=z)\n",
    "    \n",
    "    def binarySearchTree_search(self, search_key):\n",
    "        x = self.head.right\n",
    "        while x != self.z:\n",
    "            if x.key == search_key:\n",
    "                return x.key\n",
    "            if x.key > search_key:\n",
    "                x = x.left\n",
    "            else:\n",
    "                x = x.right\n",
    "        return -1\n",
    "    \n",
    "    def binarySearchTree_insert(self, v):\n",
    "        x = p = self.head\n",
    "        while x != self.z:\n",
    "            p = x\n",
    "            if x.key == v:\n",
    "                return\n",
    "            if x.key > v:\n",
    "                x = x.left\n",
    "            else:\n",
    "                x = x.right\n",
    "        \n",
    "        x = tree_node(key=v, left=self.z, right=self.z)\n",
    "        if p.key > v:\n",
    "            p.left = x\n",
    "        else:\n",
    "            p.right = x"
   ]
  },
  {
   "cell_type": "markdown",
   "metadata": {},
   "source": [
    "---------------"
   ]
  },
  {
   "cell_type": "code",
   "execution_count": 5,
   "metadata": {},
   "outputs": [],
   "source": [
    "def SearchAlgorithm(N, d, a, name):\n",
    "    \n",
    "    key = []\n",
    "    s_key = []\n",
    "    \n",
    "    d = Dict()\n",
    "    \n",
    "    if name == '순차탐색':\n",
    "        key = list(range(1, N+1))\n",
    "        s_key = list(range(1, N+1))\n",
    "        random.shuffle(key)\n",
    "        \n",
    "        for i in range(N):\n",
    "            d.insert(key[i])\n",
    "        \n",
    "    elif name == '이진탐색':\n",
    "        key = list(range(1, N+1))\n",
    "        s_key = list(range(1, N+1))\n",
    "        random.shuffle(s_key)\n",
    "        \n",
    "        for i in range(N):\n",
    "            d.insert(key[i])\n",
    "        \n",
    "    elif name =='이진탐색트리':\n",
    "        key = list(range(1, N+1))\n",
    "        s_key = list(range(1, N+1))\n",
    "        random.shuffle(key)\n",
    "        \n",
    "        for i in range(N):\n",
    "            d.binarySearchTree_insert(key[i])\n",
    "    \n",
    "    if name == '이진탐색트리':   \n",
    "        start_time = time.perf_counter()\n",
    "        for i in range(N):\n",
    "            result = a(s_key[i])\n",
    "            if result == -1 or result != s_key[i]:\n",
    "                print('탐색오류')\n",
    "        end_time = time.perf_counter() - start_time\n",
    "        print(f'{name}의 실행 시간 (N={N}) : {end_time:.3f}')\n",
    "    else:\n",
    "        start_time = time.perf_counter()\n",
    "        for i in range(N):\n",
    "            result = a(s_key[i])\n",
    "            if result == -1 or key[result] != s_key[i]:\n",
    "                print('탐색오류')\n",
    "        end_time = time.perf_counter() - start_time\n",
    "        print(f'{name}의 실행 시간 (N={N}) : {end_time:.3f}')"
   ]
  },
  {
   "cell_type": "markdown",
   "metadata": {},
   "source": [
    "-------------------"
   ]
  },
  {
   "cell_type": "code",
   "execution_count": 6,
   "metadata": {},
   "outputs": [],
   "source": [
    "N = 10000"
   ]
  },
  {
   "cell_type": "code",
   "execution_count": 7,
   "metadata": {},
   "outputs": [],
   "source": [
    "d = Dict()"
   ]
  },
  {
   "cell_type": "code",
   "execution_count": 8,
   "metadata": {},
   "outputs": [
    {
     "name": "stdout",
     "output_type": "stream",
     "text": [
      "순차탐색의 실행 시간 (N=10000) : 7.263\n",
      "이진탐색의 실행 시간 (N=10000) : 0.055\n",
      "이진탐색트리의 실행 시간 (N=10000) : 0.025\n"
     ]
    }
   ],
   "source": [
    "SearchAlgorithm(N, d, d.sequentialSearch, '순차탐색')\n",
    "SearchAlgorithm(N, d, d.binarySearch, '이진탐색')\n",
    "SearchAlgorithm(N, d, d.binarySearchTree_search, '이진탐색트리')"
   ]
  },
  {
   "cell_type": "markdown",
   "metadata": {},
   "source": [
    "---------------------"
   ]
  }
 ],
 "metadata": {
  "kernelspec": {
   "display_name": "tf2.0",
   "language": "python",
   "name": "tf2.0"
  },
  "language_info": {
   "codemirror_mode": {
    "name": "ipython",
    "version": 3
   },
   "file_extension": ".py",
   "mimetype": "text/x-python",
   "name": "python",
   "nbconvert_exporter": "python",
   "pygments_lexer": "ipython3",
   "version": "3.7.5"
  }
 },
 "nbformat": 4,
 "nbformat_minor": 4
}
