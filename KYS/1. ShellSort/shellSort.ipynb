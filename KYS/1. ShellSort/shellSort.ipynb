{
 "cells": [
  {
   "cell_type": "code",
   "execution_count": 28,
   "metadata": {},
   "outputs": [
    {
     "name": "stdout",
     "output_type": "stream",
     "text": [
      "쉘 정렬의 실행 시간(N=5000) : 0.022\n"
     ]
    }
   ],
   "source": [
    "import random\n",
    "import time\n",
    "\n",
    "def shellSort(a, n):\n",
    "    h = 1\n",
    "    while h < n:                         ## 첫번째 간격 계산\n",
    "        h = 3 * h + 1\n",
    "        \n",
    "    while h > 0:\n",
    "        for i in range(h+1, n+1):\n",
    "            v, j = a[i], i              ## v: value, j: index\n",
    "#             print(v,j,h,a[j-h])\n",
    "            while j > h and a[j-h] > v:  ## 앞의 값 a[j-h]와 뒤의 값(v) 비교              \n",
    "                a[j] = a[j-h]            ## 값 교환\n",
    "                j = j -h\n",
    "            a[j] = v\n",
    "        h = int(h/3)                    ## 간격 재 조정\n",
    "\n",
    "N = 5000\n",
    "\n",
    "a = []\n",
    "a.append(-1)\n",
    "for i in range(N):\n",
    "    a.append(random.randint(1, N))\n",
    "start_time = time.time()\n",
    "shellSort(a, N)\n",
    "end_time = time.time() - start_time\n",
    "print('쉘 정렬의 실행 시간(N=%d) : %0.3f'%(N, end_time))"
   ]
  }
 ],
 "metadata": {
  "kernelspec": {
   "display_name": "csr",
   "language": "python",
   "name": "csr"
  },
  "language_info": {
   "codemirror_mode": {
    "name": "ipython",
    "version": 3
   },
   "file_extension": ".py",
   "mimetype": "text/x-python",
   "name": "python",
   "nbconvert_exporter": "python",
   "pygments_lexer": "ipython3",
   "version": "3.7.6"
  }
 },
 "nbformat": 4,
 "nbformat_minor": 4
}
