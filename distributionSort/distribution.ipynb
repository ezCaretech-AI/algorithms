{
 "cells": [
  {
   "cell_type": "code",
   "execution_count": null,
   "metadata": {},
   "outputs": [],
   "source": [
    "import random, time"
   ]
  },
  {
   "cell_type": "code",
   "execution_count": null,
   "metadata": {},
   "outputs": [],
   "source": [
    "def countingSort(a, n, m):\n",
    "    b = [0]*(n+1)\n",
    "    count = [0]*(m+1)\n",
    "    for j in range(1, m+1):\n",
    "        count[j] = 0\n",
    "    for i in range(1, n+1):\n",
    "        count[a[i]] += 1\n",
    "    for j in range(2, m+1):\n",
    "        count[j] += count[j-1]\n",
    "    for i in range(n, 0, -1):\n",
    "        b[count[a[i]]] = a[i]\n",
    "        count[a[i]] -= 1\n",
    "    for i in range(1, n+1):\n",
    "        a[i] = b[i]"
   ]
  },
  {
   "cell_type": "code",
   "execution_count": null,
   "metadata": {},
   "outputs": [],
   "source": [
    "def checkSort(a, n):\n",
    "    isSorted = True\n",
    "    for i in range(1, n):\n",
    "        if (a[i] > a[i+1]):\n",
    "            isSorted = False\n",
    "        if(not isSorted):\n",
    "            break\n",
    "    if isSorted:\n",
    "        print('정렬 완료')\n",
    "    else:\n",
    "        print('정렬 오류 발생')"
   ]
  },
  {
   "cell_type": "code",
   "execution_count": null,
   "metadata": {
    "tags": []
   },
   "outputs": [],
   "source": [
    "M = 1000\n",
    "N = 100000\n",
    "a = []\n",
    "a.append(None)\n",
    "for i in range(N):\n",
    "    a.append(random.randint(1,M))\n",
    "start_time = time.time()\n",
    "countingSort(a, N, M)\n",
    "end_time = time.time() - start_time\n",
    "print('계수 정렬의 실행 시간 (N=%d) : %0.3f'%(N, end_time))\n",
    "checkSort(a, N)"
   ]
  },
  {
   "cell_type": "code",
   "execution_count": null,
   "metadata": {},
   "outputs": [],
   "source": [
    "def enqueue(queue, data):\n",
    "    queue.append(data)\n",
    "\n",
    "def dequeue(queue):\n",
    "    if len(queue) == 0:\n",
    "        print('큐가 공백임')\n",
    "        return -1\n",
    "    else:\n",
    "        data = queue.pop(0)\n",
    "        return data\n",
    "\n",
    "def digit(d, k):\n",
    "    temp = 1\n",
    "    for i in range(1, k):\n",
    "        temp *= 10\n",
    "    d = int(d/temp)\n",
    "    d %= 10\n",
    "    return d\n",
    "\n",
    "def radixSort(a, n, m, queue):\n",
    "    for k in range(1, m+1):\n",
    "        for i in range(1, n+1):\n",
    "            kd = digit(a[i],k)\n",
    "            enqueue(queue[kd], a[i])\n",
    "        p = 0\n",
    "        for i in range(10):\n",
    "            while len(queue[i]) != 0:\n",
    "                p += 1\n",
    "                a[p] = dequeue(queue[i])\n",
    "\n",
    "def checkSort(a, n):\n",
    "    isSorted = True\n",
    "    for i in range(1,n):\n",
    "        if(a[i] > a[i+1]):\n",
    "            isSorted = False\n",
    "        if (not isSorted):\n",
    "            break\n",
    "    if isSorted:\n",
    "        print('정렬 완료')\n",
    "\n",
    "    else:\n",
    "        print('정렬 오류 발생')"
   ]
  },
  {
   "cell_type": "code",
   "execution_count": null,
   "metadata": {
    "tags": []
   },
   "outputs": [],
   "source": [
    "M = 5\n",
    "N = 100000\n",
    "a = []\n",
    "a.append(-1)\n",
    "for i in range(N):\n",
    "    a.append(random.randint(1,99999))\n",
    "Q = []\n",
    "for i in range(10):\n",
    "    Q.append([])\n",
    "start_time = time.time()\n",
    "radixSort(a, N, M, Q)\n",
    "end_time = time.time() - start_time\n",
    "print('기수 정렬의 실행 시간 (N=%d) : %0.3f'%(N, end_time))\n",
    "checkSort(a, N)"
   ]
  }
 ],
 "metadata": {
  "kernelspec": {
   "display_name": "Python 3.7.6 64-bit ('kyul3': virtualenv)",
   "language": "python",
   "name": "python_defaultSpec_1597736867426"
  },
  "language_info": {
   "codemirror_mode": {
    "name": "ipython",
    "version": 3
   },
   "file_extension": ".py",
   "mimetype": "text/x-python",
   "name": "python",
   "nbconvert_exporter": "python",
   "pygments_lexer": "ipython3",
   "version": "3.7.6-final"
  }
 },
 "nbformat": 4,
 "nbformat_minor": 4
}