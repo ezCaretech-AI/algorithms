{
 "cells": [
  {
   "cell_type": "markdown",
   "metadata": {},
   "source": [
    "# <span style='color:red'>쉘 정렬(shellsort)</span>\n",
    "\n",
    "### <span style='color:blue'>1. 이론적 배경</span>\n",
    "> 1. 쉘 정렬은 삽입 정렬의 단점을 보완한 방법.\n",
    "> 2. 삽입정렬을 이용하여 리스트 전체에 대해 작업하는 대신 서브리스트로 나누어 각 서브리스트에 삽입 정렬을 적용.\n",
    "> 3. 서브리스트를 나누는 방법은 일정한 간격 순차를 사용. (홀수와 짝수가 번갈아 가면서 진행해야 함)\n",
    "> 4. 이런 과정을 반복하다가 간격이 1이되면 마지막에는 리스트 전체에 대해 삽입 정렬을 수행.\n",
    "\n",
    "### <span style='color:blue'>2. 주요 특징</span>\n",
    "> * 삽입정렬의 단점인 원소의 비교 연산과 먼 거리의 원소 이동을 줄일 수 있다.\n",
    ">> * 삽입정렬의 단점 : 요소들이 삽입될 때, 이웃한 위치로만 이동, 즉 삽입할 위치가 현재 위치에서 상당히 멀리 떨어진 곳이라면 많은 이동을 해야함.\n",
    ">> * 삽입정렬과 다르게 쉘 정렬은 전체의 리스트를 한번에 정렬하지 않음.\n",
    "\n",
    "### <span style='color:blue'>3. 정렬 순서</span>\n",
    "\n",
    "![shellSort1](/imgs/shellSort1.png)\n",
    "\n",
    "### <span style='color:blue'>4. Index 계산 방법</span>\n",
    "> 1. 간격(Gap)을 계산하는 방법은 여러가지가 있음\n",
    ">> * (정렬한 값의 개수) / 2\n",
    ">> * (1093, 364, 121, 40, 13, 4, 1)와 같은 인덱스\n",
    "\n",
    "### <span style='color:blue'>5. 실행 결과</span>\n",
    "\n",
    "<pre>\n",
    "<code>\n",
    "\n",
    "import random\n",
    "import time\n",
    "\n",
    "def shellSort(a, n):\n",
    "    h = 1\n",
    "    while h < n:\n",
    "        h = 3 * h + 1\n",
    "    while h > 0:\n",
    "        for i in range(h+1, n+1):\n",
    "            v, j = a[i], i\n",
    "            while j > h and a[j-h] > v:\n",
    "                a[j] = a[j-h]\n",
    "                j = j -h\n",
    "            a[j] = v\n",
    "        h = int(h/3)\n",
    "\n",
    "N = 5000\n",
    "\n",
    "a = []\n",
    "a.append(-1)\n",
    "for i in range(N):\n",
    "    a.append(random.randint(1, N))\n",
    "start_time = time.time()\n",
    "shellSort(a, N)\n",
    "end_time = time.time() - start_time\n",
    "print('쉘 정렬의 실행 시간(N=%d) : %0.3f'%(N, end_time))\n",
    "\n",
    "\n",
    "\n",
    "</code>\n",
    "</pre>\n",
    "\n",
    ">> <span style='color:red'>쉘 정렬의 실행 시간(N=5000) : 0.018 ->  선택 정렬, 버블 정렬, 삽입 정렬에 비해 매우 빠름.</span>"
   ]
  },
  {
   "cell_type": "markdown",
   "metadata": {},
   "source": [
    "![shellSort1](/imgs/shellSort1.png)"
   ]
  }
 ],
 "metadata": {
  "kernelspec": {
   "display_name": "csr",
   "language": "python",
   "name": "csr"
  },
  "language_info": {
   "codemirror_mode": {
    "name": "ipython",
    "version": 3
   },
   "file_extension": ".py",
   "mimetype": "text/x-python",
   "name": "python",
   "nbconvert_exporter": "python",
   "pygments_lexer": "ipython3",
   "version": "3.7.6"
  }
 },
 "nbformat": 4,
 "nbformat_minor": 4
}
