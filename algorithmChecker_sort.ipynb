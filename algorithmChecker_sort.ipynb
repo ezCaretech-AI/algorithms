{
 "cells": [
  {
   "cell_type": "code",
   "execution_count": 1,
   "metadata": {
    "tags": []
   },
   "outputs": [],
   "source": [
    "from lib import *\n",
    "from basicSort import *\n",
    "from mergeSort import mergeSort\n",
    "from heapSort import heapSort\n",
    "from copy import deepcopy\n",
    "import random, time"
   ]
  },
  {
   "cell_type": "markdown",
   "metadata": {},
   "source": [
    "# 1. 랜덤한 수로 배열 생성"
   ]
  },
  {
   "cell_type": "code",
   "execution_count": 2,
   "metadata": {
    "tags": []
   },
   "outputs": [],
   "source": [
    "N=10000\n",
    "a=random.sample(range(0, N), N)\n",
    "# a.insert(0, -1)\n",
    "origin_a = deepcopy(a)"
   ]
  },
  {
   "cell_type": "markdown",
   "metadata": {},
   "source": [
    "# 2. 정렬 수행 \n",
    "## Week 1. 기본 정렬"
   ]
  },
  {
   "cell_type": "code",
   "execution_count": null,
   "metadata": {
    "tags": []
   },
   "outputs": [],
   "source": [
    "runAlgorithm.runAlgorithm(insertionSort.insertionSort, \"삽입정렬\", a)\n",
    "a = deepcopy(origin_a)\n",
    "runAlgorithm.runAlgorithm(shellSort.shellSort, '쉘정렬', a)\n",
    "a = deepcopy(origin_a)\n",
    "runAlgorithm.runAlgorithm(bubbleSort.bubbleSort, '버블정렬', a)\n",
    "a = deepcopy(origin_a)\n",
    "runAlgorithm.runAlgorithm(selectionSort.selectionSort, '선택정렬', a)\n",
    "a = deepcopy(origin_a)\n"
   ]
  },
  {
   "cell_type": "markdown",
   "metadata": {},
   "source": [
    "## Week 2. 퀵정렬, 합병정렬, 힙정렬"
   ]
  },
  {
   "cell_type": "code",
   "execution_count": 7,
   "metadata": {
    "tags": []
   },
   "outputs": [
    {
     "output_type": "stream",
     "name": "stdout",
     "text": "합병정렬 실행 시간 (N=10000) : 0.167\n정렬 완료\n\n히프정렬 실행 시간 (N=10000) : 0.045\n정렬 완료\n\n"
    }
   ],
   "source": [
    "\n",
    "\n",
    "runAlgorithm.runAlgorithm(mergeSort.mergeSort, '합병정렬', a)\n",
    "a=deepcopy(origin_a)\n",
    "\n",
    "runAlgorithm.runAlgorithm(heapSort.heapSort, '히프정렬', a)\n",
    "a=deepcopy(origin_a)"
   ]
  },
  {
   "cell_type": "code",
   "execution_count": null,
   "metadata": {},
   "outputs": [],
   "source": []
  },
  {
   "cell_type": "code",
   "execution_count": null,
   "metadata": {},
   "outputs": [],
   "source": []
  }
 ],
 "metadata": {
  "kernelspec": {
   "display_name": "Python 3.7.7 64-bit ('shyun': conda)",
   "language": "python",
   "name": "python_defaultSpec_1596420284962"
  },
  "language_info": {
   "codemirror_mode": {
    "name": "ipython",
    "version": 3
   },
   "file_extension": ".py",
   "mimetype": "text/x-python",
   "name": "python",
   "nbconvert_exporter": "python",
   "pygments_lexer": "ipython3",
   "version": "3.7.7-final"
  }
 },
 "nbformat": 4,
 "nbformat_minor": 4
}