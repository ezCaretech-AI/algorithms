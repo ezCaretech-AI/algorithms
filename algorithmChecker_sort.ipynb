{
 "cells": [
  {
   "cell_type": "code",
   "execution_count": 1,
   "metadata": {},
   "outputs": [],
   "source": [
    "from basicSort.insertionSort import insertionSort   ##작성한 정렬 코드\n",
    "from basicSort.shellSort import shellSort\n",
    "from basicSort.checkSort import checkSort       ##|정렬 코드가 올바른지 체크하는 코드"
   ]
  },
  {
   "cell_type": "code",
   "execution_count": 2,
   "metadata": {},
   "outputs": [],
   "source": [
    "import random, time     ##정렬 시간 체크와 임의 함수 생성을 위해 import "
   ]
  },
  {
   "cell_type": "markdown",
   "metadata": {},
   "source": [
    "# 1. 임의 array 생성"
   ]
  },
  {
   "cell_type": "code",
   "execution_count": 3,
   "metadata": {},
   "outputs": [],
   "source": [
    "N=5000\n",
    "a=[]\n",
    "a.append(-1)"
   ]
  },
  {
   "cell_type": "code",
   "execution_count": 4,
   "metadata": {},
   "outputs": [],
   "source": [
    "for i in range(N):\n",
    "    a.append(random.randint(1, N))"
   ]
  },
  {
   "cell_type": "markdown",
   "metadata": {},
   "source": [
    "# 2. 정렬 실행 및 수행 시간 체크"
   ]
  },
  {
   "cell_type": "markdown",
   "metadata": {},
   "source": [
    "### 2.1. 삽입정렬"
   ]
  },
  {
   "cell_type": "code",
   "execution_count": 5,
   "metadata": {
    "tags": []
   },
   "outputs": [
    {
     "name": "stdout",
     "output_type": "stream",
     "text": [
      "삽입정렬 실행 시간 (N=5000) : 1.190\n",
      "정렬 완료\n"
     ]
    }
   ],
   "source": [
    "start_time=time.time()\n",
    "insertionSort(a, N)\n",
    "end_time=time.time() - start_time\n",
    "\n",
    "print('삽입정렬 실행 시간 (N=%d) : %0.3f'%(N, end_time))\n",
    "checkSort(a, N)"
   ]
  },
  {
   "cell_type": "markdown",
   "metadata": {},
   "source": [
    "### 2.2. 셀 정렬"
   ]
  },
  {
   "cell_type": "code",
   "execution_count": 6,
   "metadata": {},
   "outputs": [
    {
     "name": "stdout",
     "output_type": "stream",
     "text": [
      "셀정렬 실행 시간 (N=5000) : 0.011\n",
      "정렬 완료\n"
     ]
    }
   ],
   "source": [
    "start_time=time.time()\n",
    "shellSort(a, N)\n",
    "end_time=time.time() - start_time\n",
    "\n",
    "print('셀정렬 실행 시간 (N=%d) : %0.3f'%(N, end_time))\n",
    "checkSort(a, N)"
   ]
  }
 ],
 "metadata": {
  "kernelspec": {
   "display_name": "csr",
   "language": "python",
   "name": "csr"
  },
  "language_info": {
   "codemirror_mode": {
    "name": "ipython",
    "version": 3
   },
   "file_extension": ".py",
   "mimetype": "text/x-python",
   "name": "python",
   "nbconvert_exporter": "python",
   "pygments_lexer": "ipython3",
   "version": "3.7.6"
  }
 },
 "nbformat": 4,
 "nbformat_minor": 4
}
