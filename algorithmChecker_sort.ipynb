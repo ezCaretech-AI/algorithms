{
 "cells": [
  {
   "cell_type": "code",
   "execution_count": 1,
   "metadata": {
    "tags": []
   },
   "outputs": [],
   "source": [
    "from basicSort.insertionSort import insertionSort   ##작성한 정렬 코드\n",
    "from basicSort.shellSort import shellSort\n",
    "from basicSort.bubbleSort import bubbleSort\n",
    "from basicSort.checkSort import checkSort  \n",
    "from basicSort.selectionSort import selectionSort       ##|정렬 코드가 올바른지 체크하는 코드\n",
    "from copy import deepcopy\n",
    "import random, time"
   ]
  },
  {
   "cell_type": "markdown",
   "metadata": {},
   "source": [
    "# 1. 임의 array 생성"
   ]
  },
  {
   "cell_type": "code",
   "execution_count": 3,
   "metadata": {},
   "outputs": [],
   "source": [
    "def runAlgorithm(funcs, funcsName, sampledata):\n",
    "    n = len(a)\n",
    "    start_time=time.time()\n",
    "    funcs(a)\n",
    "    end_time=time.time() - start_time\n",
    "\n",
    "    print('%s 실행 시간 (N=%d) : %0.3f'%(funcsName, n, end_time))\n",
    "    checkSort(a, n-1)\n",
    "    print(\"\")"
   ]
  },
  {
   "cell_type": "markdown",
   "metadata": {},
   "source": [
    "# 2. 정렬 실행 및 수행 시간 체크"
   ]
  },
  {
   "cell_type": "code",
   "execution_count": 4,
   "metadata": {
    "tags": []
   },
   "outputs": [
    {
     "output_type": "stream",
     "name": "stdout",
     "text": "삽입정렬 실행 시간 (N=5000) : 0.970\n정렬 완료\n\n쉘정렬 실행 시간 (N=5000) : 0.018\n정렬 완료\n\n버블정렬 실행 시간 (N=5000) : 1.958\n정렬 완료\n\n선택정렬 실행 시간 (N=5000) : 0.689\n정렬 완료\n\n"
    }
   ],
   "source": [
    "N=5000\n",
    "a=random.sample(range(0, N), N-1)\n",
    "a.insert(0, -1)\n",
    "origin_a = deepcopy(a)\n",
    "#삽입정렬\n",
    "runAlgorithm(insertionSort, \"삽입정렬\", a)\n",
    "a = deepcopy(origin_a)\n",
    "runAlgorithm(shellSort, '쉘정렬', a)\n",
    "a = deepcopy(origin_a)\n",
    "runAlgorithm(bubbleSort, '버블정렬', a)\n",
    "a = deepcopy(origin_a)\n",
    "runAlgorithm(selectionSort, '선택정렬', a)"
   ]
  }
 ],
 "metadata": {
  "kernelspec": {
   "display_name": "Python 3.7.7 64-bit ('py37_tf20': conda)",
   "language": "python",
   "name": "python_defaultSpec_1595566968239"
  },
  "language_info": {
   "codemirror_mode": {
    "name": "ipython",
    "version": 3
   },
   "file_extension": ".py",
   "mimetype": "text/x-python",
   "name": "python",
   "nbconvert_exporter": "python",
   "pygments_lexer": "ipython3",
   "version": "3.7.6"
  }
 },
 "nbformat": 4,
 "nbformat_minor": 4
}